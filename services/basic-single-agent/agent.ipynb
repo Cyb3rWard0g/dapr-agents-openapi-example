{
 "cells": [
  {
   "cell_type": "code",
   "execution_count": 1,
   "id": "9f1207d8",
   "metadata": {},
   "outputs": [],
   "source": [
    "from dapr_agents import OpenAPIReActAgent\n",
    "from dapr_agents.tool.utils import OpenAPISpecParser\n",
    "from dapr_agents.document.embedder import SentenceTransformerEmbedder\n",
    "from dapr_agents.storage import ChromaVectorStore\n",
    "from dotenv import load_dotenv\n",
    "import logging"
   ]
  },
  {
   "cell_type": "code",
   "execution_count": 2,
   "id": "c8d0e34b",
   "metadata": {},
   "outputs": [
    {
     "data": {
      "text/plain": [
       "True"
      ]
     },
     "execution_count": 2,
     "metadata": {},
     "output_type": "execute_result"
    }
   ],
   "source": [
    "logging.basicConfig(level=logging.INFO)\n",
    "\n",
    "load_dotenv()"
   ]
  },
  {
   "cell_type": "code",
   "execution_count": 3,
   "id": "b8ba8047",
   "metadata": {},
   "outputs": [],
   "source": [
    "spec_parser = OpenAPISpecParser.from_url(\"http://127.0.0.1:8000/openapi.json\")"
   ]
  },
  {
   "cell_type": "code",
   "execution_count": 4,
   "id": "d4eb3eea",
   "metadata": {},
   "outputs": [
    {
     "data": {
      "text/plain": [
       "('GET /health',\n",
       " 'Return the health status of the API.',\n",
       " Operation(tags=['system'], summary='Health check endpoint', description='Return the health status of the API.', externalDocs=None, operationId='health_check_health_get', parameters=None, requestBody=None, responses={'200': Response(description='Successful Response', headers=None, content={'application/json': MediaType(media_type_schema=Schema(allOf=None, anyOf=None, oneOf=None, schema_not=None, schema_if=None, then=None, schema_else=None, dependentSchemas=None, prefixItems=None, items=None, contains=None, properties=None, patternProperties=None, additionalProperties=Schema(allOf=None, anyOf=None, oneOf=None, schema_not=None, schema_if=None, then=None, schema_else=None, dependentSchemas=None, prefixItems=None, items=None, contains=None, properties=None, patternProperties=None, additionalProperties=None, propertyNames=None, unevaluatedItems=None, unevaluatedProperties=None, type=<DataType.STRING: 'string'>, enum=None, const=None, multipleOf=None, maximum=None, exclusiveMaximum=None, minimum=None, exclusiveMinimum=None, maxLength=None, minLength=None, pattern=None, maxItems=None, minItems=None, uniqueItems=None, maxContains=None, minContains=None, maxProperties=None, minProperties=None, required=None, dependentRequired=None, schema_format=None, contentEncoding=None, contentMediaType=None, contentSchema=None, title=None, description=None, default=None, deprecated=None, readOnly=None, writeOnly=None, examples=None, discriminator=None, xml=None, externalDocs=None, example=None), propertyNames=None, unevaluatedItems=None, unevaluatedProperties=None, type=<DataType.OBJECT: 'object'>, enum=None, const=None, multipleOf=None, maximum=None, exclusiveMaximum=None, minimum=None, exclusiveMinimum=None, maxLength=None, minLength=None, pattern=None, maxItems=None, minItems=None, uniqueItems=None, maxContains=None, minContains=None, maxProperties=None, minProperties=None, required=None, dependentRequired=None, schema_format=None, contentEncoding=None, contentMediaType=None, contentSchema=None, title='Response Health Check Health Get', description=None, default=None, deprecated=None, readOnly=None, writeOnly=None, examples=None, discriminator=None, xml=None, externalDocs=None, example=None), example=None, examples=None, encoding=None)}, links=None)}, callbacks=None, deprecated=False, security=None, servers=None))"
      ]
     },
     "execution_count": 4,
     "metadata": {},
     "output_type": "execute_result"
    }
   ],
   "source": [
    "spec_parser.endpoints[0]"
   ]
  },
  {
   "cell_type": "code",
   "execution_count": 5,
   "id": "11e7cb9f",
   "metadata": {},
   "outputs": [
    {
     "data": {
      "text/plain": [
       "5"
      ]
     },
     "execution_count": 5,
     "metadata": {},
     "output_type": "execute_result"
    }
   ],
   "source": [
    "len(spec_parser.endpoints)"
   ]
  },
  {
   "cell_type": "code",
   "execution_count": 6,
   "id": "f8266698",
   "metadata": {},
   "outputs": [],
   "source": [
    "from dapr_agents.tool.utils.openapi import openapi_spec_to_openai_fn\n",
    "\n",
    "functions = openapi_spec_to_openai_fn(spec_parser)"
   ]
  },
  {
   "cell_type": "code",
   "execution_count": 7,
   "id": "2cb7d8a2",
   "metadata": {},
   "outputs": [
    {
     "data": {
      "text/plain": [
       "{'definition': {'type': 'function',\n",
       "  'function': {'name': 'add',\n",
       "   'description': 'Add two numbers and return the result.',\n",
       "   'parameters': {'type': 'object',\n",
       "    'properties': {'params': {'type': 'object',\n",
       "      'properties': {'a': {'type': 'number', 'title': 'A'},\n",
       "       'b': {'type': 'number', 'title': 'B'}},\n",
       "      'required': ['a', 'b']}}}}},\n",
       " 'metadata': {'method': 'get', 'url': 'http://127.0.0.1:8000/add'}}"
      ]
     },
     "execution_count": 7,
     "metadata": {},
     "output_type": "execute_result"
    }
   ],
   "source": [
    "functions[1]"
   ]
  },
  {
   "cell_type": "code",
   "execution_count": 8,
   "id": "8c3163b1",
   "metadata": {},
   "outputs": [
    {
     "name": "stderr",
     "output_type": "stream",
     "text": [
      "INFO:dapr_agents.document.embedder.sentence:Loading SentenceTransformer model from local path: model\n",
      "INFO:sentence_transformers.SentenceTransformer:Load pretrained SentenceTransformer: model\n",
      "INFO:dapr_agents.document.embedder.sentence:Model loaded successfully.\n",
      "INFO:dapr_agents.storage.vectorstores.chroma:ChromaVectorStore initialized with collection: api_toolbox\n"
     ]
    }
   ],
   "source": [
    "embedding_function = SentenceTransformerEmbedder(model=\"all-MiniLM-L6-v2\", cache_dir=\"model\")\n",
    "api_vector_store = ChromaVectorStore(\n",
    "    name=\"api_toolbox\",\n",
    "    embedding_function=embedding_function,\n",
    "    persistent=False\n",
    ")"
   ]
  },
  {
   "cell_type": "code",
   "execution_count": 9,
   "id": "cdb9a0c2",
   "metadata": {},
   "outputs": [
    {
     "name": "stderr",
     "output_type": "stream",
     "text": [
      "INFO:dapr_agents.llm.openai.client.base:Initializing OpenAI client...\n",
      "INFO:dapr_agents.agent.patterns.openapi.react:Setting up VectorToolStore for OpenAPIReActAgent...\n",
      "INFO:dapr_agents.tool.storage.vectorstore:Adding tools to Vector Tool Store.\n",
      "INFO:dapr_agents.document.embedder.sentence:Generating embeddings for 5 input(s).\n"
     ]
    },
    {
     "data": {
      "application/vnd.jupyter.widget-view+json": {
       "model_id": "e8ca90824c0a4adeae5fd0b310bbb264",
       "version_major": 2,
       "version_minor": 0
      },
      "text/plain": [
       "Batches:   0%|          | 0/1 [00:00<?, ?it/s]"
      ]
     },
     "metadata": {},
     "output_type": "display_data"
    },
    {
     "name": "stderr",
     "output_type": "stream",
     "text": [
      "INFO:dapr_agents.tool.executor:Tool registered: GetOpenapiDefinition\n",
      "INFO:dapr_agents.tool.executor:Tool registered: OpenApiCallExecutor\n",
      "INFO:dapr_agents.tool.executor:Tool Executor initialized with 2 tool(s).\n",
      "INFO:dapr_agents.agent.base:Constructing system_prompt from agent attributes.\n",
      "INFO:dapr_agents.agent.base:Using system_prompt to create the prompt template.\n",
      "INFO:dapr_agents.agent.base:Pre-filled prompt template with attributes: ['name', 'role', 'goal', 'instructions']\n"
     ]
    }
   ],
   "source": [
    "calculator_agent = OpenAPIReActAgent(\n",
    "    role=\"Calculator API Assistant\",\n",
    "    instructions=[\n",
    "        \"You are a helpful assistant that can perform calculations by calling REST API endpoints.\",\n",
    "    ],\n",
    "    name=\"CalculatorOpenAPIReActAgent\",\n",
    "    spec_parser=spec_parser,\n",
    "    api_vector_store=api_vector_store,\n",
    ")"
   ]
  },
  {
   "cell_type": "code",
   "execution_count": 10,
   "id": "d71ba2fe",
   "metadata": {},
   "outputs": [
    {
     "data": {
      "text/html": [
       "<pre style=\"white-space:pre;overflow-x:auto;line-height:normal;font-family:Menlo,'DejaVu Sans Mono',consolas,'Courier New',monospace\"><span style=\"font-style: italic\">                                                  Available Tools                                                  </span>\n",
       "┏━━━━━━━━━━━━━━━━━━━━━━┳━━━━━━━━━━━━━━━━━━━━━━━━━━━━━━━━━━━━━━━━━━━━━┳━━━━━━━━━━━━━━━━━━━━━━━━━━━━━━━━━━━━━━━━━━━━┓\n",
       "┃<span style=\"font-weight: bold\"> Name                 </span>┃<span style=\"font-weight: bold\"> Description                                 </span>┃<span style=\"font-weight: bold\"> Signature                                  </span>┃\n",
       "┡━━━━━━━━━━━━━━━━━━━━━━╇━━━━━━━━━━━━━━━━━━━━━━━━━━━━━━━━━━━━━━━━━━━━━╇━━━━━━━━━━━━━━━━━━━━━━━━━━━━━━━━━━━━━━━━━━━━┩\n",
       "│<span style=\"color: #008080; text-decoration-color: #008080; font-weight: bold\"> GetOpenapiDefinition </span>│                                             │ GetOpenapiDefinition(user_input: str)      │\n",
       "│<span style=\"color: #008080; text-decoration-color: #008080; font-weight: bold\">                      </span>│ Search the vector store for OpenAPI         │                                            │\n",
       "│<span style=\"color: #008080; text-decoration-color: #008080; font-weight: bold\">                      </span>│ *operation IDs / paths* most relevant       │                                            │\n",
       "│<span style=\"color: #008080; text-decoration-color: #008080; font-weight: bold\">                      </span>│ to **one** user task.                       │                                            │\n",
       "│<span style=\"color: #008080; text-decoration-color: #008080; font-weight: bold\">                      </span>│                                             │                                            │\n",
       "│<span style=\"color: #008080; text-decoration-color: #008080; font-weight: bold\">                      </span>│ Always call this **once per new task**      │                                            │\n",
       "│<span style=\"color: #008080; text-decoration-color: #008080; font-weight: bold\">                      </span>│ *before* attempting an                      │                                            │\n",
       "│<span style=\"color: #008080; text-decoration-color: #008080; font-weight: bold\">                      </span>│ `open_api_call_executor`. Returns up to 5   │                                            │\n",
       "│<span style=\"color: #008080; text-decoration-color: #008080; font-weight: bold\">                      </span>│ candidate operations.                       │                                            │\n",
       "│<span style=\"color: #008080; text-decoration-color: #008080; font-weight: bold\">                      </span>│                                             │                                            │\n",
       "│<span style=\"color: #008080; text-decoration-color: #008080; font-weight: bold\"> OpenApiCallExecutor  </span>│                                             │ OpenApiCallExecutor(path_template: str,    │\n",
       "│<span style=\"color: #008080; text-decoration-color: #008080; font-weight: bold\">                      </span>│ Execute **one** REST call described by an   │ method: str, path_params: Dict, data:      │\n",
       "│<span style=\"color: #008080; text-decoration-color: #008080; font-weight: bold\">                      </span>│ OpenAPI operation.                          │ Dict, headers: Optional = None, params:    │\n",
       "│<span style=\"color: #008080; text-decoration-color: #008080; font-weight: bold\">                      </span>│                                             │ Optional = None, req_kwargs: Any)          │\n",
       "│<span style=\"color: #008080; text-decoration-color: #008080; font-weight: bold\">                      </span>│ Use this only *after*                       │                                            │\n",
       "│<span style=\"color: #008080; text-decoration-color: #008080; font-weight: bold\">                      </span>│ `get_openapi_definition` has returned a     │                                            │\n",
       "│<span style=\"color: #008080; text-decoration-color: #008080; font-weight: bold\">                      </span>│ matching                                    │                                            │\n",
       "│<span style=\"color: #008080; text-decoration-color: #008080; font-weight: bold\">                      </span>│ `path_template`/`method`.                   │                                            │\n",
       "│<span style=\"color: #008080; text-decoration-color: #008080; font-weight: bold\">                      </span>│                                             │                                            │\n",
       "│<span style=\"color: #008080; text-decoration-color: #008080; font-weight: bold\">                      </span>│ Authentication: merge `auth_header` given   │                                            │\n",
       "│<span style=\"color: #008080; text-decoration-color: #008080; font-weight: bold\">                      </span>│ at agent-init time with                     │                                            │\n",
       "│<span style=\"color: #008080; text-decoration-color: #008080; font-weight: bold\">                      </span>│ any per-call `headers` argument (per-call   │                                            │\n",
       "│<span style=\"color: #008080; text-decoration-color: #008080; font-weight: bold\">                      </span>│ overrides duplicates).                      │                                            │\n",
       "│<span style=\"color: #008080; text-decoration-color: #008080; font-weight: bold\">                      </span>│                                             │                                            │\n",
       "└──────────────────────┴─────────────────────────────────────────────┴────────────────────────────────────────────┘\n",
       "</pre>\n"
      ],
      "text/plain": [
       "\u001b[3m                                                  Available Tools                                                  \u001b[0m\n",
       "┏━━━━━━━━━━━━━━━━━━━━━━┳━━━━━━━━━━━━━━━━━━━━━━━━━━━━━━━━━━━━━━━━━━━━━┳━━━━━━━━━━━━━━━━━━━━━━━━━━━━━━━━━━━━━━━━━━━━┓\n",
       "┃\u001b[1m \u001b[0m\u001b[1mName                \u001b[0m\u001b[1m \u001b[0m┃\u001b[1m \u001b[0m\u001b[1mDescription                                \u001b[0m\u001b[1m \u001b[0m┃\u001b[1m \u001b[0m\u001b[1mSignature                                 \u001b[0m\u001b[1m \u001b[0m┃\n",
       "┡━━━━━━━━━━━━━━━━━━━━━━╇━━━━━━━━━━━━━━━━━━━━━━━━━━━━━━━━━━━━━━━━━━━━━╇━━━━━━━━━━━━━━━━━━━━━━━━━━━━━━━━━━━━━━━━━━━━┩\n",
       "│\u001b[1;36m \u001b[0m\u001b[1;36mGetOpenapiDefinition\u001b[0m\u001b[1;36m \u001b[0m│                                             │ GetOpenapiDefinition(user_input: str)      │\n",
       "│\u001b[1;36m                      \u001b[0m│ Search the vector store for OpenAPI         │                                            │\n",
       "│\u001b[1;36m                      \u001b[0m│ *operation IDs / paths* most relevant       │                                            │\n",
       "│\u001b[1;36m                      \u001b[0m│ to **one** user task.                       │                                            │\n",
       "│\u001b[1;36m                      \u001b[0m│                                             │                                            │\n",
       "│\u001b[1;36m                      \u001b[0m│ Always call this **once per new task**      │                                            │\n",
       "│\u001b[1;36m                      \u001b[0m│ *before* attempting an                      │                                            │\n",
       "│\u001b[1;36m                      \u001b[0m│ `open_api_call_executor`. Returns up to 5   │                                            │\n",
       "│\u001b[1;36m                      \u001b[0m│ candidate operations.                       │                                            │\n",
       "│\u001b[1;36m                      \u001b[0m│                                             │                                            │\n",
       "│\u001b[1;36m \u001b[0m\u001b[1;36mOpenApiCallExecutor \u001b[0m\u001b[1;36m \u001b[0m│                                             │ OpenApiCallExecutor(path_template: str,    │\n",
       "│\u001b[1;36m                      \u001b[0m│ Execute **one** REST call described by an   │ method: str, path_params: Dict, data:      │\n",
       "│\u001b[1;36m                      \u001b[0m│ OpenAPI operation.                          │ Dict, headers: Optional = None, params:    │\n",
       "│\u001b[1;36m                      \u001b[0m│                                             │ Optional = None, req_kwargs: Any)          │\n",
       "│\u001b[1;36m                      \u001b[0m│ Use this only *after*                       │                                            │\n",
       "│\u001b[1;36m                      \u001b[0m│ `get_openapi_definition` has returned a     │                                            │\n",
       "│\u001b[1;36m                      \u001b[0m│ matching                                    │                                            │\n",
       "│\u001b[1;36m                      \u001b[0m│ `path_template`/`method`.                   │                                            │\n",
       "│\u001b[1;36m                      \u001b[0m│                                             │                                            │\n",
       "│\u001b[1;36m                      \u001b[0m│ Authentication: merge `auth_header` given   │                                            │\n",
       "│\u001b[1;36m                      \u001b[0m│ at agent-init time with                     │                                            │\n",
       "│\u001b[1;36m                      \u001b[0m│ any per-call `headers` argument (per-call   │                                            │\n",
       "│\u001b[1;36m                      \u001b[0m│ overrides duplicates).                      │                                            │\n",
       "│\u001b[1;36m                      \u001b[0m│                                             │                                            │\n",
       "└──────────────────────┴─────────────────────────────────────────────┴────────────────────────────────────────────┘\n"
      ]
     },
     "metadata": {},
     "output_type": "display_data"
    }
   ],
   "source": [
    "calculator_agent.tool_executor.help"
   ]
  },
  {
   "cell_type": "code",
   "execution_count": 11,
   "id": "328dc530",
   "metadata": {},
   "outputs": [],
   "source": [
    "prompt = \"Precisely calculate with available tools: 2 + 2, 5*5, 2.4 / 2, -34 + 10, and 2.9283 * 2.23234\""
   ]
  },
  {
   "cell_type": "code",
   "execution_count": 12,
   "id": "9c988c0a",
   "metadata": {},
   "outputs": [
    {
     "name": "stderr",
     "output_type": "stream",
     "text": [
      "INFO:dapr_agents.tool.storage.vectorstore:Searching for tools similar to query: Precisely calculate with available tools: 2 + 2, 5*5, 2.4 / 2, -34 + 10, and 2.9283 * 2.23234\n",
      "INFO:dapr_agents.document.embedder.sentence:Generating embeddings for 1 input(s).\n"
     ]
    },
    {
     "data": {
      "application/vnd.jupyter.widget-view+json": {
       "model_id": "b136a08ce43345269c0342fd6180e2ab",
       "version_major": 2,
       "version_minor": 0
      },
      "text/plain": [
       "Batches:   0%|          | 0/1 [00:00<?, ?it/s]"
      ]
     },
     "metadata": {},
     "output_type": "display_data"
    }
   ],
   "source": [
    "similar = calculator_agent.tool_vector_store.get_similar_tools(prompt)"
   ]
  },
  {
   "cell_type": "code",
   "execution_count": 13,
   "id": "c4d2fc62",
   "metadata": {},
   "outputs": [
    {
     "data": {
      "text/plain": [
       "{'ids': [['13944680-4c8e-4ff6-9352-c35a54a795f8',\n",
       "   'b941e848-c467-4642-b0b7-d67a80ae37de',\n",
       "   'ca0da60b-0710-4667-a95a-54b4f5817e47',\n",
       "   'e1d8b739-0ea2-4c39-9473-74a32a2a8b3c']],\n",
       " 'embeddings': None,\n",
       " 'documents': [[\"multiply: Multiply two numbers and return the result.. Args schema: {'type': 'object', 'properties': {'params': {'type': 'object', 'properties': {'a': {'type': 'number', 'title': 'A'}, 'b': {'type': 'number', 'title': 'B'}}, 'required': ['a', 'b']}}}\",\n",
       "   \"subtract: Subtract b from a and return the result.. Args schema: {'type': 'object', 'properties': {'params': {'type': 'object', 'properties': {'a': {'type': 'number', 'title': 'A'}, 'b': {'type': 'number', 'title': 'B'}}, 'required': ['a', 'b']}}}\",\n",
       "   \"divide: Divide a by b and return the result. Raises an error if b is 0.. Args schema: {'type': 'object', 'properties': {'params': {'type': 'object', 'properties': {'a': {'type': 'number', 'title': 'A'}, 'b': {'type': 'number', 'title': 'B'}}, 'required': ['a', 'b']}}}\",\n",
       "   \"add: Add two numbers and return the result.. Args schema: {'type': 'object', 'properties': {'params': {'type': 'object', 'properties': {'a': {'type': 'number', 'title': 'A'}, 'b': {'type': 'number', 'title': 'B'}}, 'required': ['a', 'b']}}}\"]],\n",
       " 'uris': None,\n",
       " 'included': ['metadatas', 'documents', 'distances'],\n",
       " 'data': None,\n",
       " 'metadatas': [[{'url': 'http://127.0.0.1:8000/multiply',\n",
       "    'name': 'multiply',\n",
       "    'method': 'get'},\n",
       "   {'url': 'http://127.0.0.1:8000/subtract',\n",
       "    'name': 'subtract',\n",
       "    'method': 'get'},\n",
       "   {'url': 'http://127.0.0.1:8000/divide', 'method': 'get', 'name': 'divide'},\n",
       "   {'method': 'get', 'name': 'add', 'url': 'http://127.0.0.1:8000/add'}]],\n",
       " 'distances': [[0.8384529948234558,\n",
       "   0.8559737205505371,\n",
       "   0.8682737946510315,\n",
       "   0.8982028961181641]]}"
      ]
     },
     "execution_count": 13,
     "metadata": {},
     "output_type": "execute_result"
    }
   ],
   "source": [
    "similar"
   ]
  },
  {
   "cell_type": "code",
   "execution_count": 14,
   "id": "75f0e43b",
   "metadata": {},
   "outputs": [
    {
     "data": {
      "text/plain": [
       "[\"multiply: Multiply two numbers and return the result.. Args schema: {'type': 'object', 'properties': {'params': {'type': 'object', 'properties': {'a': {'type': 'number', 'title': 'A'}, 'b': {'type': 'number', 'title': 'B'}}, 'required': ['a', 'b']}}}\",\n",
       " \"subtract: Subtract b from a and return the result.. Args schema: {'type': 'object', 'properties': {'params': {'type': 'object', 'properties': {'a': {'type': 'number', 'title': 'A'}, 'b': {'type': 'number', 'title': 'B'}}, 'required': ['a', 'b']}}}\",\n",
       " \"divide: Divide a by b and return the result. Raises an error if b is 0.. Args schema: {'type': 'object', 'properties': {'params': {'type': 'object', 'properties': {'a': {'type': 'number', 'title': 'A'}, 'b': {'type': 'number', 'title': 'B'}}, 'required': ['a', 'b']}}}\",\n",
       " \"add: Add two numbers and return the result.. Args schema: {'type': 'object', 'properties': {'params': {'type': 'object', 'properties': {'a': {'type': 'number', 'title': 'A'}, 'b': {'type': 'number', 'title': 'B'}}, 'required': ['a', 'b']}}}\"]"
      ]
     },
     "execution_count": 14,
     "metadata": {},
     "output_type": "execute_result"
    }
   ],
   "source": [
    "similar[\"documents\"][0]"
   ]
  },
  {
   "cell_type": "code",
   "execution_count": 15,
   "id": "ca2ac9da",
   "metadata": {},
   "outputs": [
    {
     "data": {
      "text/plain": [
       "[{'url': 'http://127.0.0.1:8000/multiply',\n",
       "  'name': 'multiply',\n",
       "  'method': 'get'},\n",
       " {'url': 'http://127.0.0.1:8000/subtract',\n",
       "  'name': 'subtract',\n",
       "  'method': 'get'},\n",
       " {'url': 'http://127.0.0.1:8000/divide', 'method': 'get', 'name': 'divide'},\n",
       " {'method': 'get', 'name': 'add', 'url': 'http://127.0.0.1:8000/add'}]"
      ]
     },
     "execution_count": 15,
     "metadata": {},
     "output_type": "execute_result"
    }
   ],
   "source": [
    "similar[\"metadatas\"][0]"
   ]
  },
  {
   "cell_type": "code",
   "execution_count": 16,
   "id": "54d05393",
   "metadata": {},
   "outputs": [
    {
     "name": "stderr",
     "output_type": "stream",
     "text": [
      "INFO:dapr_agents.agent.patterns.react.base:Iteration 1/10 started.\n",
      "INFO:dapr_agents.llm.openai.chat:Invoking ChatCompletion API.\n"
     ]
    },
    {
     "name": "stdout",
     "output_type": "stream",
     "text": [
      "\u001b[38;2;242;182;128muser:\u001b[0m\n",
      "\u001b[38;2;242;182;128m\u001b[0m\u001b[38;2;242;182;128mPrecisely calculate with available tools: 2 + 2, 5*5, 2.4 / 2, -34 + 10, and 2.9283 * 2.23234\u001b[0m\u001b[0m\n",
      "\u001b[0m\u001b[0m\n",
      "\u001b[0m--------------------------------------------------------------------------------\u001b[0m\n",
      "\u001b[0m\u001b[0m\u001b[0m\n"
     ]
    },
    {
     "name": "stderr",
     "output_type": "stream",
     "text": [
      "INFO:httpx:HTTP Request: POST https://api.openai.com/v1/chat/completions \"HTTP/1.1 200 OK\"\n",
      "INFO:dapr_agents.llm.openai.chat:Chat completion retrieved successfully.\n",
      "INFO:dapr_agents.agent.patterns.react.base:Executing GetOpenapiDefinition with arguments {'user_input': 'calculate mathematical expression'}\n",
      "INFO:dapr_agents.tool.executor:Running tool (auto): GetOpenapiDefinition\n",
      "INFO:dapr_agents.tool.storage.vectorstore:Searching for tools similar to query: ['calculate mathematical expression']\n",
      "INFO:dapr_agents.document.embedder.sentence:Generating embeddings for 1 input(s).\n"
     ]
    },
    {
     "name": "stdout",
     "output_type": "stream",
     "text": [
      "\u001b[38;2;217;95;118mThought: To perform precise calculations, I'll call the calculation API for each operation. First, I will use the `GetOpenapiDefinition` tool to obtain the relevant API operation details for performing calculations.\u001b[0m\u001b[0m\n",
      "\u001b[38;2;191;69;126mAction: {\"name\": \"GetOpenapiDefinition\", \"arguments\": {\"user_input\": \"calculate mathematical expression\"}}\u001b[0m\u001b[0m\n"
     ]
    },
    {
     "data": {
      "application/vnd.jupyter.widget-view+json": {
       "model_id": "3b2475aa322645949101a45498c1b3ef",
       "version_major": 2,
       "version_minor": 0
      },
      "text/plain": [
       "Batches:   0%|          | 0/1 [00:00<?, ?it/s]"
      ]
     },
     "metadata": {},
     "output_type": "display_data"
    },
    {
     "name": "stderr",
     "output_type": "stream",
     "text": [
      "INFO:dapr_agents.agent.patterns.react.base:Iteration 2/10 started.\n",
      "INFO:dapr_agents.llm.openai.chat:Invoking ChatCompletion API.\n"
     ]
    },
    {
     "name": "stdout",
     "output_type": "stream",
     "text": [
      "\u001b[38;2;146;94;130mObservation: [\"multiply: Multiply two numbers and return the result.. Args schema: {'type': 'object', 'properties': {'params': {'type': 'object', 'properties': {'a': {'type': 'number', 'title': 'A'}, 'b': {'type': 'number', 'title': 'B'}}, 'required': ['a', 'b']}}}\\nurl=http://127.0.0.1:8000/multiply | method=GET | name=multiply\", \"subtract: Subtract b from a and return the result.. Args schema: {'type': 'object', 'properties': {'params': {'type': 'object', 'properties': {'a': {'type': 'number', 'title': 'A'}, 'b': {'type': 'number', 'title': 'B'}}, 'required': ['a', 'b']}}}\\nurl=http://127.0.0.1:8000/subtract | method=GET | name=subtract\", \"divide: Divide a by b and return the result. Raises an error if b is 0.. Args schema: {'type': 'object', 'properties': {'params': {'type': 'object', 'properties': {'a': {'type': 'number', 'title': 'A'}, 'b': {'type': 'number', 'title': 'B'}}, 'required': ['a', 'b']}}}\\nurl=http://127.0.0.1:8000/divide | method=GET | name=divide\", \"add: Add two numbers and return the result.. Args schema: {'type': 'object', 'properties': {'params': {'type': 'object', 'properties': {'a': {'type': 'number', 'title': 'A'}, 'b': {'type': 'number', 'title': 'B'}}, 'required': ['a', 'b']}}}\\nurl=http://127.0.0.1:8000/add | method=GET | name=add\", \"health_check_health_get: Return the health status of the API.. Args schema: {'type': 'object', 'properties': {}}\\nurl=http://127.0.0.1:8000/health | method=GET | name=health_check_health_get\"]\u001b[0m\u001b[0m\n"
     ]
    },
    {
     "name": "stderr",
     "output_type": "stream",
     "text": [
      "INFO:httpx:HTTP Request: POST https://api.openai.com/v1/chat/completions \"HTTP/1.1 200 OK\"\n",
      "INFO:dapr_agents.llm.openai.chat:Chat completion retrieved successfully.\n",
      "INFO:dapr_agents.agent.patterns.react.base:Executing OpenApiCallExecutor with arguments {'path_template': '/add', 'method': 'GET', 'path_params': {}, 'params': {'a': 2, 'b': 2}, 'data': {}, 'headers': None}\n",
      "INFO:dapr_agents.tool.executor:Running tool (auto): OpenApiCallExecutor\n",
      "INFO:dapr_agents.agent.patterns.react.base:Iteration 3/10 started.\n",
      "INFO:dapr_agents.llm.openai.chat:Invoking ChatCompletion API.\n"
     ]
    },
    {
     "name": "stdout",
     "output_type": "stream",
     "text": [
      "\u001b[38;2;217;95;118mThought: I now have the necessary operation details to execute each calculation. I will perform each calculation using the appropriate API operation, starting with addition for 2 + 2.\u001b[0m\u001b[0m\n",
      "\u001b[38;2;191;69;126mAction: {\"name\": \"OpenApiCallExecutor\", \"arguments\": {\"path_template\": \"/add\", \"method\": \"GET\", \"path_params\": {}, \"params\": {\"a\": 2, \"b\": 2}, \"data\": {}, \"headers\": null}}\u001b[0m\u001b[0m\n",
      "Base Url: http://127.0.0.1:8000\n",
      "Requested Url: http://127.0.0.1:8000/add\n",
      "Requested Method: GET\n",
      "Requested Parameters: {'a': 2, 'b': 2}\n",
      "\u001b[38;2;146;94;130mObservation: {'result': 4.0}\u001b[0m\u001b[0m\n"
     ]
    },
    {
     "name": "stderr",
     "output_type": "stream",
     "text": [
      "INFO:httpx:HTTP Request: POST https://api.openai.com/v1/chat/completions \"HTTP/1.1 200 OK\"\n",
      "INFO:dapr_agents.llm.openai.chat:Chat completion retrieved successfully.\n",
      "INFO:dapr_agents.agent.patterns.react.base:Executing OpenApiCallExecutor with arguments {'path_template': '/multiply', 'method': 'GET', 'path_params': {}, 'params': {'a': 5, 'b': 5}, 'data': {}, 'headers': None}\n",
      "INFO:dapr_agents.tool.executor:Running tool (auto): OpenApiCallExecutor\n",
      "INFO:dapr_agents.agent.patterns.react.base:Iteration 4/10 started.\n",
      "INFO:dapr_agents.llm.openai.chat:Invoking ChatCompletion API.\n"
     ]
    },
    {
     "name": "stdout",
     "output_type": "stream",
     "text": [
      "\u001b[38;2;217;95;118mThought: The result of 2 + 2 is 4.0. Next, I will perform the multiplication operation for 5 * 5.\u001b[0m\u001b[0m\n",
      "\u001b[38;2;191;69;126mAction: {\"name\": \"OpenApiCallExecutor\", \"arguments\": {\"path_template\": \"/multiply\", \"method\": \"GET\", \"path_params\": {}, \"params\": {\"a\": 5, \"b\": 5}, \"data\": {}, \"headers\": null}}\u001b[0m\u001b[0m\n",
      "Base Url: http://127.0.0.1:8000\n",
      "Requested Url: http://127.0.0.1:8000/multiply\n",
      "Requested Method: GET\n",
      "Requested Parameters: {'a': 5, 'b': 5}\n",
      "\u001b[38;2;146;94;130mObservation: {'result': 25.0}\u001b[0m\u001b[0m\n"
     ]
    },
    {
     "name": "stderr",
     "output_type": "stream",
     "text": [
      "INFO:httpx:HTTP Request: POST https://api.openai.com/v1/chat/completions \"HTTP/1.1 200 OK\"\n",
      "INFO:dapr_agents.llm.openai.chat:Chat completion retrieved successfully.\n",
      "INFO:dapr_agents.agent.patterns.react.base:Executing OpenApiCallExecutor with arguments {'path_template': '/divide', 'method': 'GET', 'path_params': {}, 'params': {'a': 2.4, 'b': 2}, 'data': {}, 'headers': None}\n",
      "INFO:dapr_agents.tool.executor:Running tool (auto): OpenApiCallExecutor\n",
      "INFO:dapr_agents.agent.patterns.react.base:Iteration 5/10 started.\n",
      "INFO:dapr_agents.llm.openai.chat:Invoking ChatCompletion API.\n"
     ]
    },
    {
     "name": "stdout",
     "output_type": "stream",
     "text": [
      "\u001b[38;2;217;95;118mThought: The result of 5 * 5 is 25.0. Next, I will perform the division operation for 2.4 / 2.\u001b[0m\u001b[0m\n",
      "\u001b[38;2;191;69;126mAction: {\"name\": \"OpenApiCallExecutor\", \"arguments\": {\"path_template\": \"/divide\", \"method\": \"GET\", \"path_params\": {}, \"params\": {\"a\": 2.4, \"b\": 2}, \"data\": {}, \"headers\": null}}\u001b[0m\u001b[0m\n",
      "Base Url: http://127.0.0.1:8000\n",
      "Requested Url: http://127.0.0.1:8000/divide\n",
      "Requested Method: GET\n",
      "Requested Parameters: {'a': 2.4, 'b': 2}\n",
      "\u001b[38;2;146;94;130mObservation: {'result': 1.2}\u001b[0m\u001b[0m\n"
     ]
    },
    {
     "name": "stderr",
     "output_type": "stream",
     "text": [
      "INFO:httpx:HTTP Request: POST https://api.openai.com/v1/chat/completions \"HTTP/1.1 200 OK\"\n",
      "INFO:dapr_agents.llm.openai.chat:Chat completion retrieved successfully.\n",
      "INFO:dapr_agents.agent.patterns.react.base:Executing OpenApiCallExecutor with arguments {'path_template': '/add', 'method': 'GET', 'path_params': {}, 'params': {'a': -34, 'b': 10}, 'data': {}, 'headers': None}\n",
      "INFO:dapr_agents.tool.executor:Running tool (auto): OpenApiCallExecutor\n",
      "INFO:dapr_agents.agent.patterns.react.base:Iteration 6/10 started.\n",
      "INFO:dapr_agents.llm.openai.chat:Invoking ChatCompletion API.\n"
     ]
    },
    {
     "name": "stdout",
     "output_type": "stream",
     "text": [
      "\u001b[38;2;217;95;118mThought: The result of 2.4 / 2 is 1.2. Next, I will perform the subtraction operation for -34 + 10.\u001b[0m\u001b[0m\n",
      "\u001b[38;2;191;69;126mAction: {\"name\": \"OpenApiCallExecutor\", \"arguments\": {\"path_template\": \"/add\", \"method\": \"GET\", \"path_params\": {}, \"params\": {\"a\": -34, \"b\": 10}, \"data\": {}, \"headers\": null}}\u001b[0m\u001b[0m\n",
      "Base Url: http://127.0.0.1:8000\n",
      "Requested Url: http://127.0.0.1:8000/add\n",
      "Requested Method: GET\n",
      "Requested Parameters: {'a': -34, 'b': 10}\n",
      "\u001b[38;2;146;94;130mObservation: {'result': -24.0}\u001b[0m\u001b[0m\n"
     ]
    },
    {
     "name": "stderr",
     "output_type": "stream",
     "text": [
      "INFO:httpx:HTTP Request: POST https://api.openai.com/v1/chat/completions \"HTTP/1.1 200 OK\"\n",
      "INFO:dapr_agents.llm.openai.chat:Chat completion retrieved successfully.\n",
      "INFO:dapr_agents.agent.patterns.react.base:Executing OpenApiCallExecutor with arguments {'path_template': '/multiply', 'method': 'GET', 'path_params': {}, 'params': {'a': 2.9283, 'b': 2.23234}, 'data': {}, 'headers': None}\n",
      "INFO:dapr_agents.tool.executor:Running tool (auto): OpenApiCallExecutor\n",
      "INFO:dapr_agents.agent.patterns.react.base:Iteration 7/10 started.\n",
      "INFO:dapr_agents.llm.openai.chat:Invoking ChatCompletion API.\n"
     ]
    },
    {
     "name": "stdout",
     "output_type": "stream",
     "text": [
      "\u001b[38;2;217;95;118mThought: The result of -34 + 10 is -24.0. Finally, I will perform the multiplication operation for 2.9283 * 2.23234.\u001b[0m\u001b[0m\n",
      "\u001b[38;2;191;69;126mAction: {\"name\": \"OpenApiCallExecutor\", \"arguments\": {\"path_template\": \"/multiply\", \"method\": \"GET\", \"path_params\": {}, \"params\": {\"a\": 2.9283, \"b\": 2.23234}, \"data\": {}, \"headers\": null}}\u001b[0m\u001b[0m\n",
      "Base Url: http://127.0.0.1:8000\n",
      "Requested Url: http://127.0.0.1:8000/multiply\n",
      "Requested Method: GET\n",
      "Requested Parameters: {'a': 2.9283, 'b': 2.23234}\n",
      "\u001b[38;2;146;94;130mObservation: {'result': 6.536961222000001}\u001b[0m\u001b[0m\n"
     ]
    },
    {
     "name": "stderr",
     "output_type": "stream",
     "text": [
      "INFO:httpx:HTTP Request: POST https://api.openai.com/v1/chat/completions \"HTTP/1.1 200 OK\"\n",
      "INFO:dapr_agents.llm.openai.chat:Chat completion retrieved successfully.\n",
      "INFO:dapr_agents.agent.patterns.react.base:No action specified; continuing with further reasoning.\n",
      "INFO:dapr_agents.agent.patterns.react.base:Iteration 8/10 started.\n",
      "INFO:dapr_agents.llm.openai.chat:Invoking ChatCompletion API.\n"
     ]
    },
    {
     "name": "stdout",
     "output_type": "stream",
     "text": [
      "\u001b[38;2;217;95;118mThought: The precise results for the calculations are as follows:\u001b[0m\n",
      "\u001b[38;2;217;95;118m- \\(2 + 2 = 4.0\\)\u001b[0m\n",
      "\u001b[38;2;217;95;118m- \\(5 \\times 5 = 25.0\\)\u001b[0m\n",
      "\u001b[38;2;217;95;118m- \\(2.4 \\div 2 = 1.2\\)\u001b[0m\n",
      "\u001b[38;2;217;95;118m- \\(-34 + 10 = -24.0\\)\u001b[0m\n",
      "\u001b[38;2;217;95;118m- \\(2.9283 \\times 2.23234 = 6.536961222000001\\)\u001b[0m\u001b[0m\n"
     ]
    },
    {
     "name": "stderr",
     "output_type": "stream",
     "text": [
      "INFO:httpx:HTTP Request: POST https://api.openai.com/v1/chat/completions \"HTTP/1.1 200 OK\"\n",
      "INFO:dapr_agents.llm.openai.chat:Chat completion retrieved successfully.\n",
      "INFO:dapr_agents.agent.patterns.react.base:Agent provided a direct final answer.\n"
     ]
    },
    {
     "name": "stdout",
     "output_type": "stream",
     "text": [
      "\u001b[38;2;217;95;118mThought: Answer: The precise results for the calculations are:\u001b[0m\n",
      "\u001b[38;2;217;95;118m- \\(2 + 2 = 4.0\\)\u001b[0m\n",
      "\u001b[38;2;217;95;118m- \\(5 \\times 5 = 25.0\\)\u001b[0m\n",
      "\u001b[38;2;217;95;118m- \\(2.4 \\div 2 = 1.2\\)\u001b[0m\n",
      "\u001b[38;2;217;95;118m- \\(-34 + 10 = -24.0\\)\u001b[0m\n",
      "\u001b[38;2;217;95;118m- \\(2.9283 \\times 2.23234 = 6.536961222000001\\)\u001b[0m\u001b[0m\n",
      "\u001b[0m\u001b[0m\n",
      "\u001b[0m--------------------------------------------------------------------------------\u001b[0m\n",
      "\u001b[0m\u001b[0m\u001b[0m\n",
      "\u001b[38;2;147;191;183massistant:\u001b[0m\n",
      "\u001b[38;2;147;191;183m\u001b[0m\u001b[38;2;147;191;183mThe precise results for the calculations are:\u001b[0m\n",
      "\u001b[38;2;147;191;183m- \\(2 + 2 = 4.0\\)\u001b[0m\n",
      "\u001b[38;2;147;191;183m- \\(5 \\times 5 = 25.0\\)\u001b[0m\n",
      "\u001b[38;2;147;191;183m- \\(2.4 \\div 2 = 1.2\\)\u001b[0m\n",
      "\u001b[38;2;147;191;183m- \\(-34 + 10 = -24.0\\)\u001b[0m\n",
      "\u001b[38;2;147;191;183m- \\(2.9283 \\times 2.23234 = 6.536961222000001\\)\u001b[0m\u001b[0m\n"
     ]
    },
    {
     "data": {
      "text/plain": [
       "'The precise results for the calculations are:\\n- \\\\(2 + 2 = 4.0\\\\)\\n- \\\\(5 \\\\times 5 = 25.0\\\\)\\n- \\\\(2.4 \\\\div 2 = 1.2\\\\)\\n- \\\\(-34 + 10 = -24.0\\\\)\\n- \\\\(2.9283 \\\\times 2.23234 = 6.536961222000001\\\\)'"
      ]
     },
     "execution_count": 16,
     "metadata": {},
     "output_type": "execute_result"
    }
   ],
   "source": [
    "await calculator_agent.run(prompt)"
   ]
  },
  {
   "cell_type": "code",
   "execution_count": null,
   "id": "ee28a9e2",
   "metadata": {},
   "outputs": [],
   "source": []
  },
  {
   "cell_type": "code",
   "execution_count": null,
   "id": "41a1339a",
   "metadata": {},
   "outputs": [],
   "source": []
  }
 ],
 "metadata": {
  "kernelspec": {
   "display_name": ".venv",
   "language": "python",
   "name": "python3"
  },
  "language_info": {
   "codemirror_mode": {
    "name": "ipython",
    "version": 3
   },
   "file_extension": ".py",
   "mimetype": "text/x-python",
   "name": "python",
   "nbconvert_exporter": "python",
   "pygments_lexer": "ipython3",
   "version": "3.13.1"
  }
 },
 "nbformat": 4,
 "nbformat_minor": 5
}
